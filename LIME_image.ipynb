{
 "cells": [
  {
   "cell_type": "code",
   "execution_count": 16,
   "id": "052f335c",
   "metadata": {},
   "outputs": [],
   "source": [
    "import lime\n",
    "from lime import lime_image\n",
    "import tensorflow as tf\n",
    "from tensorflow.keras import datasets, layers, models\n",
    "from skimage.segmentation import mark_boundaries\n",
    "import matplotlib.pyplot as plt\n",
    "import numpy as np"
   ]
  },
  {
   "cell_type": "markdown",
   "id": "e6febe0a",
   "metadata": {},
   "source": [
    "# CIFAR-10 Dataset\n",
    "\n",
    "The CIFAR-10 dataset is a popular dataset used in machine learning and computer vision for image classification tasks. \n",
    "\n",
    "## Key Characteristics:\n",
    "\n",
    "- **Number of Images**: 60,000\n",
    "- **Image Dimensions**: 32x32 pixels\n",
    "- **Color Channels**: 3 (RGB)\n",
    "- **Number of Classes**: 10\n",
    "- **Classes**: Airplane, Automobile, Bird, Cat, Deer, Dog, Frog, Horse, Ship, Truck\n",
    "- **Images per Class**: 6,000\n",
    "- **Training-Testing Split**: 50,000 training images, 10,000 testing images\n",
    "\n",
    "## Usage:\n",
    "\n",
    "The CIFAR-10 dataset is widely used for developing, training, and evaluating machine learning models in the field of image recognition. The dataset’s small image size and varied content make it challenging yet manageable, providing a balanced dataset for both beginners and advanced practitioners to test their models.\n"
   ]
  },
  {
   "cell_type": "code",
   "execution_count": 18,
   "id": "c20eeba8",
   "metadata": {},
   "outputs": [],
   "source": [
    "# Load CIFAR-10 dataset\n",
    "(train_images, train_labels), (test_images,\n",
    "                               test_labels) = datasets.cifar10.load_data()\n",
    "# Normalize pixel values to be between 0 and 1\n",
    "train_images, test_images = train_images / 255.0, test_images / 255.0\n",
    "class_names = [\n",
    "    'airplane', 'automobile', 'bird', 'cat', 'deer', 'dog', 'frog', 'horse',\n",
    "    'ship', 'truck'\n",
    "]"
   ]
  },
  {
   "cell_type": "markdown",
   "id": "cdd6db14",
   "metadata": {},
   "source": [
    "# Convolutional Neural Network (CNN)\n",
    "\n",
    "A Convolutional Neural Network (CNN) is a type of deep learning model specifically designed for pattern recognition in images. It automates the extraction of features from images, making it highly effective for tasks like image recognition and object detection.\n",
    "\n",
    "## Key Components of a CNN:\n",
    "\n",
    "1. **Input Layer**: \n",
    "   - Takes in the image as an array of pixel values.\n",
    "\n",
    "2. **Convolutional Layer**: \n",
    "   - Applies various filters to detect features like edges, textures, and complex patterns.\n",
    "   - Each filter produces a feature map highlighting areas where a specific feature is detected.\n",
    "\n",
    "3. **Pooling Layer**: \n",
    "   - Reduces the spatial dimensions (width and height) of the input volume.\n",
    "   - Helps in making the detection of features invariant to scale and orientation changes.\n",
    "\n",
    "4. **Fully Connected Layer**: \n",
    "   - Flattens the output and prepares it for classification.\n",
    "   - Uses the features extracted by previous layers to make the final classification decision.\n",
    "\n",
    "CNNs leverage the spatial hierarchy of features in an image, allowing them to provide state-of-the-art results in image analysis tasks.\n"
   ]
  },
  {
   "cell_type": "code",
   "execution_count": null,
   "id": "4c0e0fda",
   "metadata": {},
   "outputs": [],
   "source": [
    "# Define a simple CNN model\n",
    "model = models.Sequential()\n",
    "model.add(layers.Conv2D(32, (3, 3), activation='relu',\n",
    "                        input_shape=(32, 32, 3)))\n",
    "model.add(layers.MaxPooling2D((2, 2)))\n",
    "model.add(layers.Conv2D(64, (3, 3), activation='relu'))\n",
    "model.add(layers.MaxPooling2D((2, 2)))\n",
    "model.add(layers.Conv2D(64, (3, 3), activation='relu'))\n",
    "model.add(layers.Flatten())\n",
    "model.add(layers.Dense(64, activation='relu'))\n",
    "model.add(layers.Dense(10))\n",
    "\n",
    "# Compile and train the model\n",
    "model.compile(\n",
    "    optimizer='adam',\n",
    "    loss=tf.keras.losses.SparseCategoricalCrossentropy(from_logits=True),\n",
    "    metrics=['accuracy'])\n",
    "model.fit(train_images,\n",
    "          train_labels,\n",
    "          epochs=10,\n",
    "          validation_data=(test_images, test_labels))"
   ]
  },
  {
   "cell_type": "code",
   "execution_count": null,
   "id": "6f96f670",
   "metadata": {
    "scrolled": true
   },
   "outputs": [],
   "source": [
    "# Create a LIME Image Explainer\n",
    "explainer = lime_image.LimeImageExplainer()\n",
    "\n",
    "# Choose a random image from the test set\n",
    "i = np.random.randint(0, test_images.shape[0])\n",
    "image = test_images[i]\n",
    "\n",
    "# Get the model's prediction for this image\n",
    "exp = explainer.explain_instance(image,\n",
    "                                 model.predict,\n",
    "                                 top_labels=5,\n",
    "                                 hide_color=0,\n",
    "                                 num_samples=1000)\n",
    "\n",
    "# Show the image and the explanation\n",
    "temp, mask = exp.get_image_and_mask(exp.top_labels[0],\n",
    "                                    positive_only=False,\n",
    "                                    num_features=5,\n",
    "                                    hide_rest=False)\n",
    "plt.imshow(mark_boundaries(temp / 2 + 0.5, mask))\n",
    "plt.title(\n",
    "    f\"True label: {class_names[test_labels[i][0]]}\\nPredicted label: {class_names[exp.top_labels[0]]}\"\n",
    ")\n",
    "plt.show()"
   ]
  }
 ],
 "metadata": {
  "kernelspec": {
   "display_name": "bi_course_venv",
   "language": "python",
   "name": "bi_course_venv"
  },
  "language_info": {
   "codemirror_mode": {
    "name": "ipython",
    "version": 3
   },
   "file_extension": ".py",
   "mimetype": "text/x-python",
   "name": "python",
   "nbconvert_exporter": "python",
   "pygments_lexer": "ipython3",
   "version": "3.11.5"
  }
 },
 "nbformat": 4,
 "nbformat_minor": 5
}
