{
 "cells": [
  {
   "cell_type": "markdown",
   "id": "7c1eb6e2",
   "metadata": {},
   "source": [
    "# Explanation Scope\n",
    "\n",
    "### Global Explanations\n",
    "\n",
    "Global explanations aim to provide an overall understanding of how a machine learning model makes decisions, regardless of individual instances. These explanations seek to answer questions about the model's general behavior and logic across the entire input space. Global explanations are particularly useful for gaining insights into the model's decision-making process as a whole, identifying potential biases in the model, and understanding the relative importance of different input features.\n",
    "\n",
    "**Examples of Global Explanations:**\n",
    "\n",
    "- **Feature Importance:** Techniques such as permutation feature importance can be used to measure the impact of each feature on the model's predictions across the entire dataset.\n",
    "- **Model Visualizations:** For some models, like decision trees, the entire model structure can be visualized, offering a global view of how decisions are made.\n",
    "- **Rule Extraction:** Generating a set of rules that approximate the behavior of the model across all possible inputs.\n",
    "\n",
    "let's see an example of \"Feature importance\":"
   ]
  },
  {
   "cell_type": "code",
   "execution_count": 1,
   "id": "14c19cf7",
   "metadata": {},
   "outputs": [
    {
     "data": {
      "image/png": "[encoded data removed]",
      "text/plain": [
       "<Figure size 640x480 with 1 Axes>"
      ]
     },
     "metadata": {},
     "output_type": "display_data"
    }
   ],
   "source": [
    "import numpy as np\n",
    "import matplotlib.pyplot as plt\n",
    "from sklearn.datasets import load_iris\n",
    "from sklearn.ensemble import RandomForestClassifier\n",
    "\n",
    "# Load the Iris dataset\n",
    "iris = load_iris()\n",
    "X = iris.data\n",
    "y = iris.target\n",
    "\n",
    "# Create and train the RandomForest model\n",
    "model = RandomForestClassifier(n_estimators=100, random_state=42)\n",
    "model.fit(X, y)\n",
    "\n",
    "# Get the feature importances\n",
    "importances = model.feature_importances_\n",
    "\n",
    "# Sort the feature importances in descending order:\n",
    "# The following line is a compact way to obtain the indices\n",
    "# of the elements in importances sorted from the highest importance to the lowest. \n",
    "indices = np.argsort(importances)[::-1]\n",
    "\n",
    "# Plot the feature importances of the forest\n",
    "plt.figure()\n",
    "plt.title(\"Feature Importances\")\n",
    "plt.bar(range(X.shape[1]), importances[indices], color=\"r\", align=\"center\")\n",
    "plt.xticks(range(X.shape[1]), iris.feature_names, rotation=90)\n",
    "plt.xlim([-1, X.shape[1]])\n",
    "plt.show()"
   ]
  },
  {
   "cell_type": "markdown",
   "id": "4c8a3282",
   "metadata": {},
   "source": [
    "### Local Explanations\n",
    "\n",
    "In contrast, local explanations focus on explaining the prediction of a machine learning model for a single instance or a small group of instances. This type of explanation is crucial when we need to understand the specific reasons behind a particular decision made by the model, such as why a loan application was denied or why a medical diagnosis was given. Local explanations provide detailed insights into the decision-making process for individual predictions, which can be critical for applications where accountability and transparency are essential."
   ]
  },
  {
   "cell_type": "markdown",
   "id": "d261f4fa",
   "metadata": {},
   "source": [
    "Let's see an example of SHAP library, used to generate a local explanation:"
   ]
  },
  {
   "cell_type": "code",
   "execution_count": 69,
   "id": "b04912fb",
   "metadata": {},
   "outputs": [
    {
     "data": {
      "text/html": [
       "\n",
       "<div id='iX9R4SJEGT4ZFFOXYK10I'>\n",
       "<div style='color: #900; text-align: center;'>\n",
       "  <b>Visualization omitted, Javascript library not loaded!</b><br>\n",
       "  Have you run `initjs()` in this notebook? If this notebook was from another\n",
       "  user you must also trust this notebook (File -> Trust notebook). If you are viewing\n",
       "  this notebook on github the Javascript has been stripped for security. If you are using\n",
       "  JupyterLab this error is because a JupyterLab extension has not yet been written.\n",
       "</div></div>\n",
       " <script>\n",
       "   if (window.SHAP) SHAP.ReactDom.render(\n",
       "    SHAP.React.createElement(SHAP.AdditiveForceVisualizer, {\"outNames\": [\"f(x)\"], \"baseValue\": 2.068486452102661, \"outValue\": 2.36399507522583, \"link\": \"identity\", \"featureNames\": [\"MedInc\", \"HouseAge\", \"AveRooms\", \"AveBedrms\", \"Population\", \"AveOccup\", \"Latitude\", \"Longitude\"], \"features\": {\"0\": {\"effect\": -0.1636793613433838, \"value\": 3.2031}, \"1\": {\"effect\": 0.061669331043958664, \"value\": 52.0}, \"2\": {\"effect\": -0.010020213201642036, \"value\": 5.477611940298507}, \"3\": {\"effect\": -0.008770521730184555, \"value\": 1.0796019900497513}, \"4\": {\"effect\": -0.015489771030843258, \"value\": 910.0}, \"5\": {\"effect\": 0.2588962912559509, \"value\": 2.263681592039801}, \"6\": {\"effect\": -0.4993782043457031, \"value\": 37.85}, \"7\": {\"effect\": 0.67228102684021, \"value\": -122.26}}, \"plot_cmap\": \"RdBu\", \"labelMargin\": 20}),\n",
       "    document.getElementById('iX9R4SJEGT4ZFFOXYK10I')\n",
       "  );\n",
       "</script>"
      ],
      "text/plain": [
       "<shap.plots._force.AdditiveForceVisualizer at 0x32a9f79d0>"
      ]
     },
     "execution_count": 69,
     "metadata": {},
     "output_type": "execute_result"
    }
   ],
   "source": [
    "import xgboost\n",
    "import shap\n",
    "import warnings\n",
    "warnings.filterwarnings('ignore')\n",
    "\n",
    "# train an XGBoost model\n",
    "X, y = shap.datasets.california()\n",
    "model = xgboost.XGBRegressor().fit(X, y)\n",
    "\n",
    "# explain the model's predictions using SHAP\n",
    "explainer = shap.Explainer(model)\n",
    "shap_values = explainer(X)\n",
    "# visualize the first prediction's explanation with a force plot\n",
    "shap.plots.force(shap_values[10])"
   ]
  },
  {
   "cell_type": "markdown",
   "id": "a12e37a3",
   "metadata": {},
   "source": [
    "The force_plot visualization provides a detailed view of the contribution of each feature to the prediction for an individual instance. Features pushing the prediction higher are shown in red, while those pushing the prediction lower are in blue. This insight is invaluable for understanding why the model made a specific prediction, helping to demystify the decision-making process of complex models."
   ]
  },
  {
   "cell_type": "markdown",
   "id": "49ac1ab3",
   "metadata": {},
   "source": [
    "When interpreting a force plot, here's how the base value fits into the overall explanation:\n",
    "\n",
    "- **Base Value:** It is the value that would be predicted if we did not know any features for the current instance. In other words, it's the model's output when no specific information is provided. For a classification model, this could be the log odds of the positive class in a binary classifier or the probabilities of each class in a multi-class classifier. For a regression model, it's the average outcome."
   ]
  },
  {
   "cell_type": "code",
   "execution_count": 78,
   "id": "8c49fbc2",
   "metadata": {},
   "outputs": [],
   "source": [
    "pp = sum([p for p in shap_values[10].values if p > 0])"
   ]
  },
  {
   "cell_type": "code",
   "execution_count": 79,
   "id": "04cf7c16",
   "metadata": {},
   "outputs": [],
   "source": [
    "nn = sum([n for n in shap_values[10].values if n < 0])"
   ]
  },
  {
   "cell_type": "code",
   "execution_count": 80,
   "id": "32599fac",
   "metadata": {},
   "outputs": [
    {
     "data": {
      "text/plain": [
       "0.2955085774883628"
      ]
     },
     "execution_count": 80,
     "metadata": {},
     "output_type": "execute_result"
    }
   ],
   "source": [
    "pp + nn"
   ]
  },
  {
   "cell_type": "code",
   "execution_count": 96,
   "id": "2f183817",
   "metadata": {},
   "outputs": [
    {
     "data": {
      "text/plain": [
       "0.29550862"
      ]
     },
     "execution_count": 96,
     "metadata": {},
     "output_type": "execute_result"
    }
   ],
   "source": [
    "model.predict(X)[10] - shap_values[10].base_values"
   ]
  },
  {
   "cell_type": "markdown",
   "id": "87c290a4",
   "metadata": {},
   "source": [
    "- **SHAP Values:** Each feature's SHAP value indicates how the presence of this feature in the current instance shifts the prediction from the base value to the final model prediction. Features pushing the prediction higher than the base value are shown in one color (e.g., red), and those pushing the prediction lower are shown in another color (e.g., blue).\n",
    "\n",
    "The force plot visually represents this shift for each feature, starting from the base value and adding each feature's effect, leading up to the final prediction. This way, you can see which features have the most significant impact on the prediction and in which direction.\n",
    "\n",
    "The concept of a base value is fundamental in SHAP and many other interpretability methods because it establishes a reference point from which the contributions of individual features can be assessed. This helps in understanding not just how the model arrived at a particular prediction, but also in comparing the relative importance and effects of different features on the model's decisions."
   ]
  },
  {
   "cell_type": "code",
   "execution_count": 98,
   "id": "3bf10b34",
   "metadata": {},
   "outputs": [
    {
     "data": {
      "image/png": "[encoded data removed]",
      "text/plain": [
       "<Figure size 800x550 with 3 Axes>"
      ]
     },
     "metadata": {},
     "output_type": "display_data"
    }
   ],
   "source": [
    "shap.plots.waterfall(shap_values[10])\n"
   ]
  },
  {
   "cell_type": "markdown",
   "id": "17deb200",
   "metadata": {},
   "source": [
    "# Explanation Type\n",
    "\n",
    "XAI provides various types of explanations to help users understand AI model decisions. Among these, plain-fact, counterfactual, and contrastive explanations stand out for their specific approaches to clarifying model behavior.\n",
    "\n",
    "### Plain-Fact Explanations\n",
    "\n",
    "**Definition:**\n",
    "Plain-fact explanations provide straightforward information about the model's decision without comparing it to alternative outcomes. These explanations usually focus on the direct reasons or factors leading to a decision.\n",
    "\n",
    "**Example:**\n",
    "Imagine a loan approval model that decides whether to approve or reject loan applications. A plain-fact explanation for a rejected loan might be, \"Your loan application was rejected because your credit score is 580, which is below our minimum requirement of 600.\"\n",
    "\n",
    "### Counterfactual Explanations\n",
    "\n",
    "**Definition:**\n",
    "Counterfactual explanations describe how a different outcome could have been achieved by altering some aspects of the input. They are essentially \"if-then\" statements that provide insight into how to change the outcome.\n",
    "\n",
    "**Example:**\n",
    "Continuing with the loan approval model, a counterfactual explanation for the same rejected loan application might be, \"Your loan application would have been approved if your credit score were at least 600.\""
   ]
  },
  {
   "cell_type": "code",
   "execution_count": null,
   "id": "f7f25a09",
   "metadata": {},
   "outputs": [],
   "source": [
    "#pip install dice-ml"
   ]
  },
  {
   "cell_type": "code",
   "execution_count": 8,
   "id": "b7feb83e",
   "metadata": {},
   "outputs": [],
   "source": [
    "import dice_ml\n",
    "from dice_ml.utils import helpers  # helper functions\n",
    "from sklearn.model_selection import train_test_split\n",
    "import warnings\n",
    "\n",
    "warnings.filterwarnings('ignore')\n",
    "\n",
    "dataset = helpers.load_adult_income_dataset()\n",
    "target = dataset[\"income\"]  # outcome variable\n",
    "train_dataset, test_dataset, _, _ = train_test_split(dataset,\n",
    "                                                     target,\n",
    "                                                     test_size=0.2,\n",
    "                                                     random_state=0,\n",
    "                                                     stratify=target)\n",
    "# Dataset for training an ML model\n",
    "d = dice_ml.Data(dataframe=train_dataset,\n",
    "                 continuous_features=['age', 'hours_per_week'],\n",
    "                 outcome_name='income')\n",
    "\n",
    "# Pre-trained ML model\n",
    "m = dice_ml.Model(\n",
    "    model_path=dice_ml.utils.helpers.get_adult_income_modelpath(),\n",
    "    backend='TF2',\n",
    "    func=\"ohe-min-max\")\n",
    "# DiCE explanation instance\n",
    "exp = dice_ml.Dice(d, m)"
   ]
  },
  {
   "cell_type": "code",
   "execution_count": 9,
   "id": "b665fb10",
   "metadata": {},
   "outputs": [
    {
     "name": "stderr",
     "output_type": "stream",
     "text": [
      "100%|█████████████████████████████████████████████| 1/1 [00:00<00:00,  3.43it/s]"
     ]
    },
    {
     "name": "stdout",
     "output_type": "stream",
     "text": [
      "Query instance (original outcome : 0)\n"
     ]
    },
    {
     "name": "stderr",
     "output_type": "stream",
     "text": [
      "\n"
     ]
    },
    {
     "data": {
      "text/html": [
       "<div>\n",
       "<style scoped>\n",
       "    .dataframe tbody tr th:only-of-type {\n",
       "        vertical-align: middle;\n",
       "    }\n",
       "\n",
       "    .dataframe tbody tr th {\n",
       "        vertical-align: top;\n",
       "    }\n",
       "\n",
       "    .dataframe thead th {\n",
       "        text-align: right;\n",
       "    }\n",
       "</style>\n",
       "<table border=\"1\" class=\"dataframe\">\n",
       "  <thead>\n",
       "    <tr style=\"text-align: right;\">\n",
       "      <th></th>\n",
       "      <th>age</th>\n",
       "      <th>workclass</th>\n",
       "      <th>education</th>\n",
       "      <th>marital_status</th>\n",
       "      <th>occupation</th>\n",
       "      <th>race</th>\n",
       "      <th>gender</th>\n",
       "      <th>hours_per_week</th>\n",
       "      <th>income</th>\n",
       "    </tr>\n",
       "  </thead>\n",
       "  <tbody>\n",
       "    <tr>\n",
       "      <th>0</th>\n",
       "      <td>29</td>\n",
       "      <td>Private</td>\n",
       "      <td>HS-grad</td>\n",
       "      <td>Married</td>\n",
       "      <td>Blue-Collar</td>\n",
       "      <td>White</td>\n",
       "      <td>Female</td>\n",
       "      <td>38</td>\n",
       "      <td>0</td>\n",
       "    </tr>\n",
       "  </tbody>\n",
       "</table>\n",
       "</div>"
      ],
      "text/plain": [
       "   age workclass education marital_status   occupation   race  gender   \n",
       "0   29   Private   HS-grad        Married  Blue-Collar  White  Female  \\\n",
       "\n",
       "   hours_per_week  income  \n",
       "0              38       0  "
      ]
     },
     "metadata": {},
     "output_type": "display_data"
    },
    {
     "name": "stdout",
     "output_type": "stream",
     "text": [
      "\n",
      "Diverse Counterfactual set (new outcome: 1)\n"
     ]
    },
    {
     "data": {
      "text/html": [
       "<div>\n",
       "<style scoped>\n",
       "    .dataframe tbody tr th:only-of-type {\n",
       "        vertical-align: middle;\n",
       "    }\n",
       "\n",
       "    .dataframe tbody tr th {\n",
       "        vertical-align: top;\n",
       "    }\n",
       "\n",
       "    .dataframe thead th {\n",
       "        text-align: right;\n",
       "    }\n",
       "</style>\n",
       "<table border=\"1\" class=\"dataframe\">\n",
       "  <thead>\n",
       "    <tr style=\"text-align: right;\">\n",
       "      <th></th>\n",
       "      <th>age</th>\n",
       "      <th>workclass</th>\n",
       "      <th>education</th>\n",
       "      <th>marital_status</th>\n",
       "      <th>occupation</th>\n",
       "      <th>race</th>\n",
       "      <th>gender</th>\n",
       "      <th>hours_per_week</th>\n",
       "      <th>income</th>\n",
       "    </tr>\n",
       "  </thead>\n",
       "  <tbody>\n",
       "    <tr>\n",
       "      <th>0</th>\n",
       "      <td>29</td>\n",
       "      <td>Private</td>\n",
       "      <td>HS-grad</td>\n",
       "      <td>Married</td>\n",
       "      <td>Blue-Collar</td>\n",
       "      <td>White</td>\n",
       "      <td>Female</td>\n",
       "      <td>88</td>\n",
       "      <td>1</td>\n",
       "    </tr>\n",
       "    <tr>\n",
       "      <th>1</th>\n",
       "      <td>44</td>\n",
       "      <td>Private</td>\n",
       "      <td>HS-grad</td>\n",
       "      <td>Married</td>\n",
       "      <td>Other/Unknown</td>\n",
       "      <td>White</td>\n",
       "      <td>Female</td>\n",
       "      <td>38</td>\n",
       "      <td>1</td>\n",
       "    </tr>\n",
       "    <tr>\n",
       "      <th>2</th>\n",
       "      <td>29</td>\n",
       "      <td>Government</td>\n",
       "      <td>Assoc</td>\n",
       "      <td>Married</td>\n",
       "      <td>Blue-Collar</td>\n",
       "      <td>White</td>\n",
       "      <td>Female</td>\n",
       "      <td>38</td>\n",
       "      <td>1</td>\n",
       "    </tr>\n",
       "    <tr>\n",
       "      <th>3</th>\n",
       "      <td>29</td>\n",
       "      <td>Private</td>\n",
       "      <td>HS-grad</td>\n",
       "      <td>Married</td>\n",
       "      <td>Blue-Collar</td>\n",
       "      <td>White</td>\n",
       "      <td>Female</td>\n",
       "      <td>70</td>\n",
       "      <td>1</td>\n",
       "    </tr>\n",
       "  </tbody>\n",
       "</table>\n",
       "</div>"
      ],
      "text/plain": [
       "   age   workclass education marital_status     occupation   race  gender   \n",
       "0   29     Private   HS-grad        Married    Blue-Collar  White  Female  \\\n",
       "1   44     Private   HS-grad        Married  Other/Unknown  White  Female   \n",
       "2   29  Government     Assoc        Married    Blue-Collar  White  Female   \n",
       "3   29     Private   HS-grad        Married    Blue-Collar  White  Female   \n",
       "\n",
       "   hours_per_week  income  \n",
       "0              88       1  \n",
       "1              38       1  \n",
       "2              38       1  \n",
       "3              70       1  "
      ]
     },
     "metadata": {},
     "output_type": "display_data"
    }
   ],
   "source": [
    "# Generate counterfactual examples\n",
    "query_instance = test_dataset.drop(columns=\"income\")[0:1]\n",
    "dice_exp = exp.generate_counterfactuals(query_instance,\n",
    "                                        total_CFs=4,\n",
    "                                        desired_class=\"opposite\")\n",
    "# Visualize counterfactual explanation\n",
    "dice_exp.visualize_as_dataframe()"
   ]
  },
  {
   "cell_type": "markdown",
   "id": "31d35914",
   "metadata": {},
   "source": [
    "### Contrastive Explanations\n",
    "\n",
    "**Definition:**\n",
    "Contrastive explanations focus on the difference between the actual outcome and a specific alternative outcome that did not occur. They explain why one outcome happened instead of another, highlighting the factors that led to the decision over possible alternatives.\n",
    "\n",
    "**Example:**\n",
    "For the rejected loan application, a contrastive explanation could be, \"Your loan application was rejected instead of approved because your credit score is 580, not 600 or higher. Applicants with scores of 600 or higher meet our creditworthiness criteria.\"\n",
    "\n",
    "###  Comparison:\n",
    "\n",
    "- **Plain-Fact Explanations** offer direct reasons for a decision, focusing on the actual factors that influenced the outcome. They are straightforward but may not provide insight into how to change the outcome.\n",
    "- **Counterfactual Explanations** provide a hypothetical scenario that would lead to a different decision, offering a clear path for changing the outcome. They are particularly useful for understanding the minimum changes needed to achieve a desired result.\n",
    "- **Contrastive Explanations** compare the actual decision to an alternative, explaining why one occurred over the other. They help understand the decision-making process by highlighting the crucial differences between two scenarios.\n",
    "\n",
    "Each type of explanation has its own strengths and is suited to different contexts and user needs. Plain-fact explanations are easy to understand but might lack actionable insights. Counterfactual explanations are powerful for identifying actionable changes but might oversimplify complex decisions. Contrastive explanations provide a deep understanding of the decision-making process but can be more complex to interpret."
   ]
  }
 ],
 "metadata": {
  "kernelspec": {
   "display_name": "Python 3 (ipykernel)",
   "language": "python",
   "name": "python3"
  },
  "language_info": {
   "codemirror_mode": {
    "name": "ipython",
    "version": 3
   },
   "file_extension": ".py",
   "mimetype": "text/x-python",
   "name": "python",
   "nbconvert_exporter": "python",
   "pygments_lexer": "ipython3",
   "version": "3.11.5"
  }
 },
 "nbformat": 4,
 "nbformat_minor": 5
}
