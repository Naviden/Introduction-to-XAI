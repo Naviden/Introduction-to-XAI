{
 "cells": [
  {
   "cell_type": "markdown",
   "id": "dca2b672",
   "metadata": {},
   "source": [
    "## Installation\n",
    "Run the following commands in a Terminal window to install H2O for Python.\n",
    "\n",
    "Install dependencies (prepending with sudo if needed):\n",
    "\n",
    "```pip install requests```\n",
    "\n",
    "```pip install tabulate```\n",
    "\n",
    "```pip install future```\n",
    "\n",
    "##### Required for plotting:\n",
    "```pip install matplotlib```\n",
    "\n",
    "Note: These are the dependencies required to run H2O. matplotlib is optional and only required to plot in H2O. A complete list of dependencies is maintained in the following file: https://github.com/h2oai/h2o-3/blob/master/h2o-py/conda/h2o-main/meta.yaml.\n",
    "\n",
    "Run the following command to remove any existing H2O module for Python.\n",
    "\n",
    "```pip uninstall h2o```\n",
    "\n",
    "Use pip to install this version of the H2O Python module.\n",
    "\n",
    "```pip install -f http://h2o-release.s3.amazonaws.com/h2o/latest_stable_Py.html h2o```"
   ]
  },
  {
   "cell_type": "code",
   "execution_count": null,
   "id": "ec751129",
   "metadata": {},
   "outputs": [],
   "source": [
    "import h2o\n",
    "h2o.init()\n",
    "from h2o.estimators import H2ORuleFitEstimator"
   ]
  },
  {
   "cell_type": "code",
   "execution_count": null,
   "id": "458f6690",
   "metadata": {},
   "outputs": [],
   "source": [
    "# Import the titanic dataset and set the column types:\n",
    "f = \"https://s3.amazonaws.com/h2o-public-test-data/smalldata/gbm_test/titanic.csv\"\n",
    "df = h2o.import_file(path=f, col_types={'pclass': \"enum\", 'survived': \"enum\"})\n",
    "\n",
    "# Split the dataset into train and test\n",
    "train, test = df.split_frame(ratios=[0.8], seed=1)\n",
    "\n",
    "# Set the predictors and response:\n",
    "x = [\"age\", \"sibsp\", \"parch\", \"fare\", \"sex\", \"pclass\"]\n",
    "y = \"survived\""
   ]
  },
  {
   "cell_type": "code",
   "execution_count": null,
   "id": "74ed900c",
   "metadata": {},
   "outputs": [],
   "source": [
    "# Build and train the model:\n",
    "rfit = H2ORuleFitEstimator(max_rule_length=10,\n",
    "                           max_num_rules=100,\n",
    "                           seed=1)\n",
    "rfit.train(training_frame=train, x=x, y=y)"
   ]
  },
  {
   "cell_type": "code",
   "execution_count": 8,
   "id": "e20ed90f",
   "metadata": {},
   "outputs": [
    {
     "data": {
      "text/html": [
       "\n",
       "<style>\n",
       "\n",
       "#h2o-table-2.h2o-container {\n",
       "  overflow-x: auto;\n",
       "}\n",
       "#h2o-table-2 .h2o-table {\n",
       "  /* width: 100%; */\n",
       "  margin-top: 1em;\n",
       "  margin-bottom: 1em;\n",
       "}\n",
       "#h2o-table-2 .h2o-table caption {\n",
       "  white-space: nowrap;\n",
       "  caption-side: top;\n",
       "  text-align: left;\n",
       "  /* margin-left: 1em; */\n",
       "  margin: 0;\n",
       "  font-size: larger;\n",
       "}\n",
       "#h2o-table-2 .h2o-table thead {\n",
       "  white-space: nowrap; \n",
       "  position: sticky;\n",
       "  top: 0;\n",
       "  box-shadow: 0 -1px inset;\n",
       "}\n",
       "#h2o-table-2 .h2o-table tbody {\n",
       "  overflow: auto;\n",
       "}\n",
       "#h2o-table-2 .h2o-table th,\n",
       "#h2o-table-2 .h2o-table td {\n",
       "  text-align: right;\n",
       "  /* border: 1px solid; */\n",
       "}\n",
       "#h2o-table-2 .h2o-table tr:nth-child(even) {\n",
       "  /* background: #F5F5F5 */\n",
       "}\n",
       "\n",
       "</style>      \n",
       "<div id=\"h2o-table-2\" class=\"h2o-container\">\n",
       "  <table class=\"h2o-table\">\n",
       "    <caption>Rule Importance: </caption>\n",
       "    <thead><tr><th></th>\n",
       "<th>variable</th>\n",
       "<th>coefficient</th>\n",
       "<th>support</th>\n",
       "<th>rule</th></tr></thead>\n",
       "    <tbody><tr><td></td>\n",
       "<td>M0T49N14</td>\n",
       "<td>0.8463259</td>\n",
       "<td>0.1796350</td>\n",
       "<td>(age < 59.41797637939453 or age is NA) & (pclass in {1, 2} or pclass is NA) & (sex in {female})</td></tr>\n",
       "<tr><td></td>\n",
       "<td>M0T9N17</td>\n",
       "<td>-0.6009129</td>\n",
       "<td>0.5389049</td>\n",
       "<td>(age >= 9.522165298461914 or age is NA) & (fare < 52.0334358215332 or fare is NA) & (sex in {male} or sex is NA)</td></tr>\n",
       "<tr><td></td>\n",
       "<td>M1T28N32</td>\n",
       "<td>0.5592326</td>\n",
       "<td>0.1921230</td>\n",
       "<td>(fare >= 15.009644508361816 or fare is NA) & (parch < 3.5 or parch is NA) & (sex in {female}) & (sibsp < 2.5 or sibsp is NA)</td></tr>\n",
       "<tr><td></td>\n",
       "<td>M0T45N20</td>\n",
       "<td>-0.4145062</td>\n",
       "<td>0.4726225</td>\n",
       "<td>(age >= 9.522165298461914 or age is NA) & (pclass in {2, 3} or pclass is NA) & (sex in {male} or sex is NA)</td></tr>\n",
       "<tr><td></td>\n",
       "<td>M0T43N13</td>\n",
       "<td>0.3907539</td>\n",
       "<td>0.1853987</td>\n",
       "<td>(pclass in {1, 2} or pclass is NA) & (sex in {female}) & (sibsp < 2.5 or sibsp is NA)</td></tr>\n",
       "<tr><td></td>\n",
       "<td>M2T14N44</td>\n",
       "<td>-0.3551698</td>\n",
       "<td>0.4217099</td>\n",
       "<td>(age >= 16.38283920288086 or age is NA) & (fare < 26.12078857421875 or fare is NA) & (parch < 0.5 or parch is NA) & (sex in {male} or sex is NA)</td></tr>\n",
       "<tr><td></td>\n",
       "<td>M0T20N15</td>\n",
       "<td>0.2761472</td>\n",
       "<td>0.1738713</td>\n",
       "<td>(age < 55.987640380859375 or age is NA) & (pclass in {1, 2} or pclass is NA) & (sex in {female})</td></tr>\n",
       "<tr><td></td>\n",
       "<td>M0T13N14</td>\n",
       "<td>-0.1275328</td>\n",
       "<td>0.5427474</td>\n",
       "<td>(age < 75.47819519042969 or age is NA) & (parch < 0.5 or parch is NA) & (sex in {male} or sex is NA)</td></tr>\n",
       "<tr><td></td>\n",
       "<td>M0T3N13</td>\n",
       "<td>0.1261551</td>\n",
       "<td>0.1767531</td>\n",
       "<td>(age < 64.48551940917969) & (pclass in {1, 2} or pclass is NA) & (sex in {female})</td></tr>\n",
       "<tr><td></td>\n",
       "<td>M1T5N31</td>\n",
       "<td>-0.0651541</td>\n",
       "<td>0.4582133</td>\n",
       "<td>(age >= 9.522165298461914 or age is NA) & (fare < 48.28102493286133 or fare is NA) & (pclass in {2, 3} or pclass is NA) & (sex in {male} or sex is NA)</td></tr>\n",
       "<tr><td></td>\n",
       "<td>M6T26N144</td>\n",
       "<td>-0.0649332</td>\n",
       "<td>0.2478386</td>\n",
       "<td>(fare < 9.397500038146973) & (fare >= 6.824999809265137) & (parch < 0.5 or parch is NA) & (pclass in {2, 3} or pclass is NA) & (sex in {male} or sex is NA) & (sibsp < 0.5 or sibsp is NA)</td></tr></tbody>\n",
       "  </table>\n",
       "</div>\n"
      ],
      "text/plain": [
       "Rule Importance: \n",
       "    variable    coefficient    support    rule\n",
       "--  ----------  -------------  ---------  ------------------------------------------------------------------------------------------------------------------------------------------------------------------------------------------\n",
       "    M0T49N14    0.846326       0.179635   (age < 59.41797637939453 or age is NA) & (pclass in {1, 2} or pclass is NA) & (sex in {female})\n",
       "    M0T9N17     -0.600913      0.538905   (age >= 9.522165298461914 or age is NA) & (fare < 52.0334358215332 or fare is NA) & (sex in {male} or sex is NA)\n",
       "    M1T28N32    0.559233       0.192123   (fare >= 15.009644508361816 or fare is NA) & (parch < 3.5 or parch is NA) & (sex in {female}) & (sibsp < 2.5 or sibsp is NA)\n",
       "    M0T45N20    -0.414506      0.472622   (age >= 9.522165298461914 or age is NA) & (pclass in {2, 3} or pclass is NA) & (sex in {male} or sex is NA)\n",
       "    M0T43N13    0.390754       0.185399   (pclass in {1, 2} or pclass is NA) & (sex in {female}) & (sibsp < 2.5 or sibsp is NA)\n",
       "    M2T14N44    -0.35517       0.42171    (age >= 16.38283920288086 or age is NA) & (fare < 26.12078857421875 or fare is NA) & (parch < 0.5 or parch is NA) & (sex in {male} or sex is NA)\n",
       "    M0T20N15    0.276147       0.173871   (age < 55.987640380859375 or age is NA) & (pclass in {1, 2} or pclass is NA) & (sex in {female})\n",
       "    M0T13N14    -0.127533      0.542747   (age < 75.47819519042969 or age is NA) & (parch < 0.5 or parch is NA) & (sex in {male} or sex is NA)\n",
       "    M0T3N13     0.126155       0.176753   (age < 64.48551940917969) & (pclass in {1, 2} or pclass is NA) & (sex in {female})\n",
       "    M1T5N31     -0.0651541     0.458213   (age >= 9.522165298461914 or age is NA) & (fare < 48.28102493286133 or fare is NA) & (pclass in {2, 3} or pclass is NA) & (sex in {male} or sex is NA)\n",
       "    M6T26N144   -0.0649332     0.247839   (fare < 9.397500038146973) & (fare >= 6.824999809265137) & (parch < 0.5 or parch is NA) & (pclass in {2, 3} or pclass is NA) & (sex in {male} or sex is NA) & (sibsp < 0.5 or sibsp is NA)"
      ]
     },
     "execution_count": 8,
     "metadata": {},
     "output_type": "execute_result"
    }
   ],
   "source": [
    "# Retrieve the rule importance:\n",
    "rfit.rule_importance()"
   ]
  },
  {
   "cell_type": "code",
   "execution_count": 9,
   "id": "6dc33433",
   "metadata": {},
   "outputs": [
    {
     "name": "stdout",
     "output_type": "stream",
     "text": [
      "rulefit prediction progress: |███████████████████████████████████████████████████| (done) 100%\n"
     ]
    },
    {
     "data": {
      "text/html": [
       "<table class='dataframe'>\n",
       "<thead>\n",
       "<tr><th style=\"text-align: right;\">  predict</th><th style=\"text-align: right;\">      p0</th><th style=\"text-align: right;\">      p1</th></tr>\n",
       "</thead>\n",
       "<tbody>\n",
       "<tr><td style=\"text-align: right;\">        1</td><td style=\"text-align: right;\">0.118845</td><td style=\"text-align: right;\">0.881155</td></tr>\n",
       "<tr><td style=\"text-align: right;\">        0</td><td style=\"text-align: right;\">0.715785</td><td style=\"text-align: right;\">0.284215</td></tr>\n",
       "<tr><td style=\"text-align: right;\">        0</td><td style=\"text-align: right;\">0.548647</td><td style=\"text-align: right;\">0.451353</td></tr>\n",
       "<tr><td style=\"text-align: right;\">        0</td><td style=\"text-align: right;\">0.715785</td><td style=\"text-align: right;\">0.284215</td></tr>\n",
       "<tr><td style=\"text-align: right;\">        0</td><td style=\"text-align: right;\">0.715785</td><td style=\"text-align: right;\">0.284215</td></tr>\n",
       "<tr><td style=\"text-align: right;\">        0</td><td style=\"text-align: right;\">0.782249</td><td style=\"text-align: right;\">0.217751</td></tr>\n",
       "<tr><td style=\"text-align: right;\">        1</td><td style=\"text-align: right;\">0.118845</td><td style=\"text-align: right;\">0.881155</td></tr>\n",
       "<tr><td style=\"text-align: right;\">        1</td><td style=\"text-align: right;\">0.118845</td><td style=\"text-align: right;\">0.881155</td></tr>\n",
       "<tr><td style=\"text-align: right;\">        0</td><td style=\"text-align: right;\">0.579991</td><td style=\"text-align: right;\">0.420009</td></tr>\n",
       "<tr><td style=\"text-align: right;\">        1</td><td style=\"text-align: right;\">0.118845</td><td style=\"text-align: right;\">0.881155</td></tr>\n",
       "</tbody>\n",
       "</table><pre style='font-size: smaller; margin-bottom: 1em;'>[268 rows x 3 columns]</pre>"
      ],
      "text/plain": [
       "  predict        p0        p1\n",
       "---------  --------  --------\n",
       "        1  0.118845  0.881155\n",
       "        0  0.715785  0.284215\n",
       "        0  0.548647  0.451353\n",
       "        0  0.715785  0.284215\n",
       "        0  0.715785  0.284215\n",
       "        0  0.782249  0.217751\n",
       "        1  0.118845  0.881155\n",
       "        1  0.118845  0.881155\n",
       "        0  0.579991  0.420009\n",
       "        1  0.118845  0.881155\n",
       "[268 rows x 3 columns]\n"
      ]
     },
     "execution_count": 9,
     "metadata": {},
     "output_type": "execute_result"
    }
   ],
   "source": [
    "# Predict on the test data:\n",
    "rfit.predict(test)"
   ]
  },
  {
   "cell_type": "code",
   "execution_count": null,
   "id": "8d2bd062",
   "metadata": {},
   "outputs": [],
   "source": []
  }
 ],
 "metadata": {
  "kernelspec": {
   "display_name": "Python 3 (ipykernel)",
   "language": "python",
   "name": "python3"
  },
  "language_info": {
   "codemirror_mode": {
    "name": "ipython",
    "version": 3
   },
   "file_extension": ".py",
   "mimetype": "text/x-python",
   "name": "python",
   "nbconvert_exporter": "python",
   "pygments_lexer": "ipython3",
   "version": "3.11.5"
  }
 },
 "nbformat": 4,
 "nbformat_minor": 5
}
