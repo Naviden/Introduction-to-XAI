{
 "cells": [
  {
   "cell_type": "code",
   "execution_count": null,
   "metadata": {},
   "outputs": [],
   "source": [
    "!pip install pyeda"
   ]
  },
  {
   "cell_type": "code",
   "execution_count": 1,
   "metadata": {},
   "outputs": [
    {
     "ename": "ModuleNotFoundError",
     "evalue": "No module named 'pyeda'",
     "output_type": "error",
     "traceback": [
      "\u001b[0;31m---------------------------------------------------------------------------\u001b[0m",
      "\u001b[0;31mModuleNotFoundError\u001b[0m                       Traceback (most recent call last)",
      "Cell \u001b[0;32mIn[1], line 5\u001b[0m\n\u001b[1;32m      3\u001b[0m \u001b[38;5;28;01mfrom\u001b[39;00m \u001b[38;5;21;01mzipfile\u001b[39;00m \u001b[38;5;28;01mimport\u001b[39;00m ZipFile\n\u001b[1;32m      4\u001b[0m \u001b[38;5;28;01mimport\u001b[39;00m \u001b[38;5;21;01mpandas\u001b[39;00m \u001b[38;5;28;01mas\u001b[39;00m \u001b[38;5;21;01mpd\u001b[39;00m\n\u001b[0;32m----> 5\u001b[0m \u001b[38;5;28;01mfrom\u001b[39;00m \u001b[38;5;21;01mmerlin\u001b[39;00m \u001b[38;5;28;01mimport\u001b[39;00m MERLIN\n\u001b[1;32m      6\u001b[0m \u001b[38;5;28;01mimport\u001b[39;00m \u001b[38;5;21;01mrequests\u001b[39;00m\n\u001b[1;32m      7\u001b[0m \u001b[38;5;28;01mimport\u001b[39;00m \u001b[38;5;21;01mzipfile\u001b[39;00m\n",
      "File \u001b[0;32m~/anaconda3/lib/python3.11/site-packages/merlin/__init__.py:1\u001b[0m\n\u001b[0;32m----> 1\u001b[0m \u001b[38;5;28;01mfrom\u001b[39;00m \u001b[38;5;21;01m.\u001b[39;00m\u001b[38;5;21;01mmerlin\u001b[39;00m \u001b[38;5;28;01mimport\u001b[39;00m MERLIN\n\u001b[1;32m      4\u001b[0m __all__ \u001b[38;5;241m=\u001b[39m [\u001b[38;5;124m'\u001b[39m\u001b[38;5;124mmerlin\u001b[39m\u001b[38;5;124m'\u001b[39m]\n",
      "File \u001b[0;32m~/anaconda3/lib/python3.11/site-packages/merlin/merlin.py:3\u001b[0m\n\u001b[1;32m      1\u001b[0m \u001b[38;5;28;01mimport\u001b[39;00m \u001b[38;5;21;01mlogging\u001b[39;00m\n\u001b[0;32m----> 3\u001b[0m \u001b[38;5;28;01mfrom\u001b[39;00m \u001b[38;5;21;01m.\u001b[39;00m\u001b[38;5;21;01mtrace\u001b[39;00m \u001b[38;5;28;01mimport\u001b[39;00m Trace\n\u001b[1;32m      4\u001b[0m \u001b[38;5;28;01mfrom\u001b[39;00m \u001b[38;5;21;01m.\u001b[39;00m\u001b[38;5;21;01mexplain\u001b[39;00m \u001b[38;5;28;01mimport\u001b[39;00m Explain\n\u001b[1;32m      6\u001b[0m \u001b[38;5;28;01mfrom\u001b[39;00m \u001b[38;5;21;01mmerlin\u001b[39;00m\u001b[38;5;21;01m.\u001b[39;00m\u001b[38;5;21;01mdata\u001b[39;00m \u001b[38;5;28;01mimport\u001b[39;00m TextDataManager\n",
      "File \u001b[0;32m~/anaconda3/lib/python3.11/site-packages/merlin/trace.py:12\u001b[0m\n\u001b[1;32m      9\u001b[0m \u001b[38;5;28;01mimport\u001b[39;00m \u001b[38;5;21;01mnumpy\u001b[39;00m \u001b[38;5;28;01mas\u001b[39;00m \u001b[38;5;21;01mnp\u001b[39;00m\n\u001b[1;32m     10\u001b[0m \u001b[38;5;28;01mimport\u001b[39;00m \u001b[38;5;21;01mpandas\u001b[39;00m \u001b[38;5;28;01mas\u001b[39;00m \u001b[38;5;21;01mpd\u001b[39;00m\n\u001b[0;32m---> 12\u001b[0m \u001b[38;5;28;01mfrom\u001b[39;00m \u001b[38;5;21;01mmerlin\u001b[39;00m\u001b[38;5;21;01m.\u001b[39;00m\u001b[38;5;21;01mutil\u001b[39;00m\u001b[38;5;21;01m.\u001b[39;00m\u001b[38;5;21;01mhelpers\u001b[39;00m \u001b[38;5;28;01mimport\u001b[39;00m jaccard_similarity\n\u001b[1;32m     13\u001b[0m \u001b[38;5;28;01mfrom\u001b[39;00m \u001b[38;5;21;01mmerlin\u001b[39;00m\u001b[38;5;21;01m.\u001b[39;00m\u001b[38;5;21;01mutil\u001b[39;00m\u001b[38;5;21;01m.\u001b[39;00m\u001b[38;5;21;01mlogger\u001b[39;00m \u001b[38;5;28;01mimport\u001b[39;00m build_logger\n\u001b[1;32m     14\u001b[0m \u001b[38;5;28;01mfrom\u001b[39;00m \u001b[38;5;21;01mmerlin\u001b[39;00m\u001b[38;5;21;01m.\u001b[39;00m\u001b[38;5;21;01msurrogate\u001b[39;00m \u001b[38;5;28;01mimport\u001b[39;00m SklearnSurrogate\n",
      "File \u001b[0;32m~/anaconda3/lib/python3.11/site-packages/merlin/util/helpers.py:2\u001b[0m\n\u001b[1;32m      1\u001b[0m \u001b[38;5;28;01mfrom\u001b[39;00m \u001b[38;5;21;01mtyping\u001b[39;00m \u001b[38;5;28;01mimport\u001b[39;00m List, Dict\n\u001b[0;32m----> 2\u001b[0m \u001b[38;5;28;01mfrom\u001b[39;00m \u001b[38;5;21;01mpyeda\u001b[39;00m\u001b[38;5;21;01m.\u001b[39;00m\u001b[38;5;21;01minter\u001b[39;00m \u001b[38;5;28;01mimport\u001b[39;00m expr, expr2bdd\n\u001b[1;32m      5\u001b[0m \u001b[38;5;66;03m# def filter_already_existing(bdd_dict):\u001b[39;00m\n\u001b[1;32m      6\u001b[0m \u001b[38;5;66;03m#     '''\u001b[39;00m\n\u001b[1;32m      7\u001b[0m \u001b[38;5;66;03m#     Filter already done classes to avoid doing them twice\u001b[39;00m\n\u001b[0;32m   (...)\u001b[0m\n\u001b[1;32m     24\u001b[0m \u001b[38;5;66;03m#     print(f'Removed already existing class_ids: {already_existing_class_ids}')\u001b[39;00m\n\u001b[1;32m     25\u001b[0m \u001b[38;5;66;03m#     return bdd_dict\u001b[39;00m\n\u001b[1;32m     28\u001b[0m \u001b[38;5;28;01mdef\u001b[39;00m \u001b[38;5;21munion\u001b[39m(list1: List, list2: List) \u001b[38;5;241m-\u001b[39m\u001b[38;5;241m>\u001b[39m \u001b[38;5;28mint\u001b[39m:\n",
      "\u001b[0;31mModuleNotFoundError\u001b[0m: No module named 'pyeda'"
     ]
    }
   ],
   "source": [
    "import os\n",
    "import logging\n",
    "from zipfile import ZipFile\n",
    "import pandas as pd\n",
    "from merlin import MERLIN\n",
    "import requests\n",
    "import zipfile\n",
    "import io\n"
   ]
  },
  {
   "cell_type": "code",
   "execution_count": 2,
   "metadata": {},
   "outputs": [
    {
     "name": "stdout",
     "output_type": "stream",
     "text": [
      "File downloaded successfully!\n",
      "Data loaded and processed successfully!\n"
     ]
    }
   ],
   "source": [
    "import requests\n",
    "import pandas as pd\n",
    "from zipfile import ZipFile\n",
    "import io\n",
    "\n",
    "# URL of the zip file\n",
    "url = \"https://raw.githubusercontent.com/Crisp-Unimib/MERLIN/main/tests/test_data/20newsgroups.zip\"\n",
    "\n",
    "# Download the zip file\n",
    "response = requests.get(url)\n",
    "\n",
    "# Check if the file was downloaded successfully\n",
    "if response.status_code == 200:\n",
    "    print(\"File downloaded successfully!\")\n",
    "    \n",
    "    # Open the zip file from memory\n",
    "    with ZipFile(io.BytesIO(response.content), 'r') as archive:\n",
    "        # Read CSV files directly from the archive\n",
    "        df_left = pd.read_csv(archive.open('df_left.csv'), delimiter=',')\n",
    "        df_right = pd.read_csv(archive.open('df_right.csv'), delimiter=',')\n",
    "\n",
    "    # Filter out rows where 'corpus' is null\n",
    "    df_left = df_left[~df_left['corpus'].isnull()]\n",
    "    df_right = df_right[~df_right['corpus'].isnull()]\n",
    "\n",
    "    # Load data\n",
    "    X_left, Y_left, predicted_labels_left = (\n",
    "        df_left['corpus'], df_left['category'], df_left['predicted_labels']\n",
    "    )\n",
    "    X_right, Y_right, predicted_labels_right = (\n",
    "        df_right['corpus'], df_right['category'], df_right['predicted_labels']\n",
    "    )\n",
    "    \n",
    "    print(\"Data loaded and processed successfully!\")\n",
    "else:\n",
    "    print(f\"Failed to download file. Status code: {response.status_code}\")"
   ]
  },
  {
   "cell_type": "code",
   "execution_count": 3,
   "metadata": {},
   "outputs": [
    {
     "data": {
      "text/html": [
       "<div>\n",
       "<style scoped>\n",
       "    .dataframe tbody tr th:only-of-type {\n",
       "        vertical-align: middle;\n",
       "    }\n",
       "\n",
       "    .dataframe tbody tr th {\n",
       "        vertical-align: top;\n",
       "    }\n",
       "\n",
       "    .dataframe thead th {\n",
       "        text-align: right;\n",
       "    }\n",
       "</style>\n",
       "<table border=\"1\" class=\"dataframe\">\n",
       "  <thead>\n",
       "    <tr style=\"text-align: right;\">\n",
       "      <th></th>\n",
       "      <th>category</th>\n",
       "      <th>corpus</th>\n",
       "      <th>predicted_labels</th>\n",
       "    </tr>\n",
       "  </thead>\n",
       "  <tbody>\n",
       "    <tr>\n",
       "      <th>0</th>\n",
       "      <td>comp.os.ms-windows.misc</td>\n",
       "      <td>beta_testers required winsock version windows ...</td>\n",
       "      <td>comp.os.ms-windows.misc</td>\n",
       "    </tr>\n",
       "    <tr>\n",
       "      <th>1</th>\n",
       "      <td>sci.crypt</td>\n",
       "      <td>tapped_code good arthur_rubin distribution_na ...</td>\n",
       "      <td>sci.crypt</td>\n",
       "    </tr>\n",
       "    <tr>\n",
       "      <th>2</th>\n",
       "      <td>sci.med</td>\n",
       "      <td>barbecued_foods health_risk originator_nntppos...</td>\n",
       "      <td>sci.med</td>\n",
       "    </tr>\n",
       "    <tr>\n",
       "      <th>3</th>\n",
       "      <td>comp.windows.x</td>\n",
       "      <td>question window ids keywords_windows organizat...</td>\n",
       "      <td>comp.windows.x</td>\n",
       "    </tr>\n",
       "    <tr>\n",
       "      <th>4</th>\n",
       "      <td>rec.sport.hockey</td>\n",
       "      <td>plus_minus stat_organization malaspina_college...</td>\n",
       "      <td>rec.sport.hockey</td>\n",
       "    </tr>\n",
       "    <tr>\n",
       "      <th>...</th>\n",
       "      <td>...</td>\n",
       "      <td>...</td>\n",
       "      <td>...</td>\n",
       "    </tr>\n",
       "    <tr>\n",
       "      <th>8480</th>\n",
       "      <td>talk.religion.misc</td>\n",
       "      <td>years_say christian_morality organization eit ...</td>\n",
       "      <td>talk.religion.misc</td>\n",
       "    </tr>\n",
       "    <tr>\n",
       "      <th>8481</th>\n",
       "      <td>rec.motorcycles</td>\n",
       "      <td>miscbuying info_needed organization_university...</td>\n",
       "      <td>rec.motorcycles</td>\n",
       "    </tr>\n",
       "    <tr>\n",
       "      <th>8482</th>\n",
       "      <td>rec.sport.baseball</td>\n",
       "      <td>dave_kingman hall_fame nntppostinghost_berkele...</td>\n",
       "      <td>rec.sport.baseball</td>\n",
       "    </tr>\n",
       "    <tr>\n",
       "      <th>8483</th>\n",
       "      <td>comp.graphics</td>\n",
       "      <td>coreldraw_bitmap scodal disclaimer_posting rep...</td>\n",
       "      <td>comp.graphics</td>\n",
       "    </tr>\n",
       "    <tr>\n",
       "      <th>8484</th>\n",
       "      <td>sci.electronics</td>\n",
       "      <td>much would tektronix oscilloscope fetch replyt...</td>\n",
       "      <td>sci.electronics</td>\n",
       "    </tr>\n",
       "  </tbody>\n",
       "</table>\n",
       "<p>8485 rows × 3 columns</p>\n",
       "</div>"
      ],
      "text/plain": [
       "                     category  \\\n",
       "0     comp.os.ms-windows.misc   \n",
       "1                   sci.crypt   \n",
       "2                     sci.med   \n",
       "3              comp.windows.x   \n",
       "4            rec.sport.hockey   \n",
       "...                       ...   \n",
       "8480       talk.religion.misc   \n",
       "8481          rec.motorcycles   \n",
       "8482       rec.sport.baseball   \n",
       "8483            comp.graphics   \n",
       "8484          sci.electronics   \n",
       "\n",
       "                                                 corpus  \\\n",
       "0     beta_testers required winsock version windows ...   \n",
       "1     tapped_code good arthur_rubin distribution_na ...   \n",
       "2     barbecued_foods health_risk originator_nntppos...   \n",
       "3     question window ids keywords_windows organizat...   \n",
       "4     plus_minus stat_organization malaspina_college...   \n",
       "...                                                 ...   \n",
       "8480  years_say christian_morality organization eit ...   \n",
       "8481  miscbuying info_needed organization_university...   \n",
       "8482  dave_kingman hall_fame nntppostinghost_berkele...   \n",
       "8483  coreldraw_bitmap scodal disclaimer_posting rep...   \n",
       "8484  much would tektronix oscilloscope fetch replyt...   \n",
       "\n",
       "             predicted_labels  \n",
       "0     comp.os.ms-windows.misc  \n",
       "1                   sci.crypt  \n",
       "2                     sci.med  \n",
       "3              comp.windows.x  \n",
       "4            rec.sport.hockey  \n",
       "...                       ...  \n",
       "8480       talk.religion.misc  \n",
       "8481          rec.motorcycles  \n",
       "8482       rec.sport.baseball  \n",
       "8483            comp.graphics  \n",
       "8484          sci.electronics  \n",
       "\n",
       "[8485 rows x 3 columns]"
      ]
     },
     "execution_count": 3,
     "metadata": {},
     "output_type": "execute_result"
    }
   ],
   "source": [
    "df_left"
   ]
  },
  {
   "cell_type": "code",
   "execution_count": null,
   "metadata": {},
   "outputs": [],
   "source": [
    "exp = MERLIN(X_left, predicted_labels_left,\n",
    "             X_right, predicted_labels_right,\n",
    "             data_type='text', surrogate_type='sklearn', log_level=logging.INFO,\n",
    "             hyperparameters_selection=True, save_path=f'results/',\n",
    "             save_surrogates=True, save_bdds=True)\n",
    "\n",
    "percent_dataset = 1\n",
    "print(\n",
    "    f'Running Trace with percent of dataset to use: {percent_dataset}', flush=True)\n",
    "exp.run_trace(percent_dataset)"
   ]
  },
  {
   "cell_type": "code",
   "execution_count": null,
   "metadata": {},
   "outputs": [],
   "source": [
    "exp.run_explain()\n"
   ]
  },
  {
   "cell_type": "code",
   "execution_count": null,
   "metadata": {},
   "outputs": [],
   "source": [
    "exp.explain.BDD2Text()"
   ]
  }
 ],
 "metadata": {
  "kernelspec": {
   "display_name": "base",
   "language": "python",
   "name": "python3"
  },
  "language_info": {
   "codemirror_mode": {
    "name": "ipython",
    "version": 3
   },
   "file_extension": ".py",
   "mimetype": "text/x-python",
   "name": "python",
   "nbconvert_exporter": "python",
   "pygments_lexer": "ipython3",
   "version": "3.11.5"
  }
 },
 "nbformat": 4,
 "nbformat_minor": 2
}
